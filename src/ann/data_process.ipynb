{
 "cells": [
  {
   "cell_type": "code",
   "execution_count": 2,
   "metadata": {},
   "outputs": [],
   "source": [
    "import pandas as pd\n",
    "import numpy as np\n",
    "import geopandas as gpd"
   ]
  },
  {
   "cell_type": "code",
   "execution_count": 28,
   "metadata": {},
   "outputs": [],
   "source": [
    "# Cargar los datos desde el archivo CSV\n",
    "data = pd.read_csv(\"./data/etecsa_processed.csv\")"
   ]
  },
  {
   "cell_type": "code",
   "execution_count": 32,
   "metadata": {},
   "outputs": [
    {
     "name": "stderr",
     "output_type": "stream",
     "text": [
      "C:\\Users\\alexs\\AppData\\Local\\Temp\\ipykernel_133060\\3256916026.py:33: DeprecationWarning: DataFrameGroupBy.apply operated on the grouping columns. This behavior is deprecated, and in a future version of pandas the grouping columns will be excluded from the operation. Either pass `include_groups=False` to exclude the groupings or explicitly select the grouping columns after groupby to silence this warning.\n",
      "  processed_trajectories = grouped.apply(process_group)\n"
     ]
    }
   ],
   "source": [
    "# Ordenar los datos por usuario, día y tiempo de inicio\n",
    "data = data.sort_values(by=['user_index', 'day', 'time_start'])\n",
    "\n",
    "# Agrupar por usuario y día\n",
    "grouped = data.groupby(['user_index', 'day'])\n",
    "\n",
    "# Función para procesar cada grupo\n",
    "def process_group(group):\n",
    "    zones = group['zone'].to_numpy()\n",
    "    time_start = group['time_start'].to_numpy()\n",
    "    time_end = group['time_end'].to_numpy()\n",
    "    \n",
    "    t_time = time_end[-1] - time_start[0]\n",
    "    \n",
    "    # Cálculo vectorizado para f_time\n",
    "    f_time = (time_start[1:-1] - time_start[0]) / t_time\n",
    "\n",
    "    # Crear DataFrame para las trayectorias procesadas\n",
    "    processed = pd.DataFrame({\n",
    "        'zone_start': zones[0],\n",
    "        'zone_middle': zones[1:-1],\n",
    "        'zone_end': zones[-1],\n",
    "        'f_time': f_time\n",
    "    })\n",
    "    return processed\n",
    "\n",
    "# Aplicar la función a cada grupo y concatenar los resultados\n",
    "processed_trajectories = grouped.apply(process_group)\n",
    "\n",
    "# Eliminar el índice adicional generado por el groupby\n",
    "processed_trajectories.reset_index(drop=True, inplace=True)\n",
    "\n",
    "# Guardar los datos procesados en un nuevo archivo CSV\n",
    "processed_trajectories.to_csv(\"./data/processed_trajectories.csv\", index=False)"
   ]
  },
  {
   "cell_type": "code",
   "execution_count": null,
   "metadata": {},
   "outputs": [],
   "source": [
    "# Cargar el archivo shapefile\n",
    "shp_file = 'data/havana_shape/havana_transport_zones.shp'\n",
    "data = gpd.read_file(shp_file)\n",
    "\n",
    "# Calcular los centroides\n",
    "data['centroid'] = data.geometry.centroid\n",
    "\n",
    "# Extraer las coordenadas (latitud y longitud)\n",
    "data['latitude'] = data['centroid'].y\n",
    "data['longitude'] = data['centroid'].x\n",
    "\n",
    "zones_centroids = data[['No_de_zona', 'latitude', 'longitude']].rename(columns={'No_de_zona': 'zone'})\n",
    "\n",
    "# Mostrar los primeros registros\n",
    "zones_centroids.head()\n",
    "\n",
    "zones_centroids.to_csv(\"./data/zones_centroids.csv\", index=False)"
   ]
  }
 ],
 "metadata": {
  "kernelspec": {
   "display_name": "Python 3",
   "language": "python",
   "name": "python3"
  },
  "language_info": {
   "codemirror_mode": {
    "name": "ipython",
    "version": 3
   },
   "file_extension": ".py",
   "mimetype": "text/x-python",
   "name": "python",
   "nbconvert_exporter": "python",
   "pygments_lexer": "ipython3",
   "version": "3.12.4"
  }
 },
 "nbformat": 4,
 "nbformat_minor": 2
}
