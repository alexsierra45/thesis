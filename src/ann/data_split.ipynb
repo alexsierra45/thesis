{
 "cells": [
  {
   "cell_type": "code",
   "execution_count": 1,
   "metadata": {},
   "outputs": [],
   "source": [
    "import pandas as pd\n",
    "import numpy as np\n",
    "from sklearn.preprocessing import MinMaxScaler\n",
    "from sklearn.model_selection import train_test_split"
   ]
  },
  {
   "cell_type": "code",
   "execution_count": 16,
   "metadata": {},
   "outputs": [],
   "source": [
    "trajectories = pd.read_csv('./data/processed_trajectories.csv')\n",
    "zn_pos = pd.read_csv('./data/zones_centroids.csv')"
   ]
  },
  {
   "cell_type": "code",
   "execution_count": 17,
   "metadata": {},
   "outputs": [],
   "source": [
    "zone_coords = zn_pos.set_index('zone')[['latitude', 'longitude']].to_dict(orient='index')\n",
    "\n",
    "# Función para obtener latitud y longitud de una zona\n",
    "def get_lat_long(zone):\n",
    "    if zone in zone_coords:\n",
    "        return zone_coords[zone]['latitude'], zone_coords[zone]['longitude']\n",
    "    else:\n",
    "        return None, None\n",
    "\n",
    "# Crear las identificaciones únicas de las torres\n",
    "towers_id = np.arange(1, 135, 1)  # Asegúrate de que esto coincida con las zonas válidas en tu conjunto de datos\n",
    "n_towers = len(towers_id)\n",
    "codes_onehot = np.eye(n_towers)  # Generar codificación one-hot para las torres\n",
    "\n",
    "# Crear una lista de coordenadas para todas las zonas\n",
    "ll = {zone: get_lat_long(zone) for zone in towers_id}\n",
    "ll[None] = (None, None)  # Añadir coordenadas nulas para zonas no válidas\n",
    "\n",
    "# Función para generar entradas y etiquetas\n",
    "def input_labels(data):\n",
    "    \"\"\"\n",
    "    Generar entradas (`inputs`) y etiquetas (`predict`) a partir de los datos procesados.\n",
    "    \"\"\"\n",
    "    inputs = []\n",
    "    predict = []\n",
    "\n",
    "    for _, row in data.iterrows():\n",
    "        zone_start, zone_middle, zone_end, f_time = row['zone_start'], row['zone_middle'], row['zone_end'], row['f_time']\n",
    "        \n",
    "        # Obtener coordenadas\n",
    "        lat_start, long_start = ll.get(zone_start, (None, None))\n",
    "        lat_end, long_end = ll.get(zone_end, (None, None))\n",
    "        \n",
    "        # Verificar si las coordenadas son válidas\n",
    "        if None in (lat_start, long_start, lat_end, long_end):\n",
    "            continue  # Ignorar trayectorias con zonas inválidas\n",
    "        \n",
    "        zone_middle = int(zone_middle)  # Convertir a entero\n",
    "        \n",
    "        # Validar que el índice sea válido dentro de codes_onehot\n",
    "        if 1 <= zone_middle <= len(codes_onehot):\n",
    "            # Crear entrada\n",
    "            inputs.append([long_start, lat_start, long_end, lat_end, f_time])\n",
    "            \n",
    "            # Crear etiqueta one-hot para la zona intermedia\n",
    "            predict.append(codes_onehot[zone_middle - 1])\n",
    "    \n",
    "    return np.array(inputs), np.array(predict)\n",
    "\n",
    "# Generar datos de entrada y etiquetas\n",
    "inputs_v2, predict = input_labels(trajectories)\n",
    "\n",
    "# Barajar los datos para aleatoriedad\n",
    "indices = np.arange(len(inputs_v2))\n",
    "np.random.shuffle(indices)\n",
    "inputs_v2 = inputs_v2[indices]\n",
    "predict = predict[indices]"
   ]
  },
  {
   "cell_type": "code",
   "execution_count": 18,
   "metadata": {},
   "outputs": [],
   "source": [
    "scaler = MinMaxScaler()\n",
    "scaler.fit(inputs_v2[:, :4])\n",
    "\n",
    "inputs = np.zeros((inputs_v2.shape[0], 5))\n",
    "inputs[:, :4] = scaler.transform(inputs_v2[:, :4])\n",
    "inputs[:, 4] = inputs_v2[:, 4]"
   ]
  },
  {
   "cell_type": "code",
   "execution_count": 19,
   "metadata": {},
   "outputs": [],
   "source": [
    "X_train, X_temp, y_train, y_temp = train_test_split(inputs, predict, test_size=0.3, random_state=42)\n",
    "X_valid, X_test, y_valid, y_test = train_test_split(X_temp, y_temp, test_size=0.5, random_state=42)"
   ]
  },
  {
   "cell_type": "code",
   "execution_count": 20,
   "metadata": {},
   "outputs": [],
   "source": [
    "# Guardar X_train y y_train\n",
    "pd.DataFrame(X_train).to_csv(\"./data/splited/X_train.csv\", index=False, header=False)\n",
    "pd.DataFrame(y_train).to_csv(\"./data/splited/y_train.csv\", index=False, header=False)\n",
    "\n",
    "# Guardar X_valid y y_valid\n",
    "pd.DataFrame(X_valid).to_csv(\"./data/splited/X_valid.csv\", index=False, header=False)\n",
    "pd.DataFrame(y_valid).to_csv(\"./data/splited/y_valid.csv\", index=False, header=False)\n",
    "\n",
    "# Guardar X_test y y_test\n",
    "pd.DataFrame(X_test).to_csv(\"./data/splited/X_test.csv\", index=False, header=False)\n",
    "pd.DataFrame(y_test).to_csv(\"./data/splited/y_test.csv\", index=False, header=False)"
   ]
  }
 ],
 "metadata": {
  "kernelspec": {
   "display_name": "Python 3",
   "language": "python",
   "name": "python3"
  },
  "language_info": {
   "codemirror_mode": {
    "name": "ipython",
    "version": 3
   },
   "file_extension": ".py",
   "mimetype": "text/x-python",
   "name": "python",
   "nbconvert_exporter": "python",
   "pygments_lexer": "ipython3",
   "version": "3.12.4"
  }
 },
 "nbformat": 4,
 "nbformat_minor": 2
}
