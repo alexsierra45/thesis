{
 "cells": [
  {
   "cell_type": "code",
   "execution_count": 1,
   "metadata": {},
   "outputs": [
    {
     "name": "stdout",
     "output_type": "stream",
     "text": [
      "geobleu: 0.21733678721880598\n",
      "dtw: 5.889002930255253\n"
     ]
    }
   ],
   "source": [
    "import geobleu\n",
    "\n",
    "# tuple format: (d, t, x, y)\n",
    "generated = [\n",
    "    (60, 12, 84, 88),\n",
    "    (60, 15, 114, 78),\n",
    "    (60, 21, 121, 96),\n",
    "    (61, 12, 78, 86),\n",
    "    (61, 13, 89, 67),\n",
    "    (61, 17, 97, 70),\n",
    "    (61, 20, 96, 70),\n",
    "    (61, 24, 111, 80),\n",
    "    (61, 25, 114, 78),\n",
    "    (61, 26, 99, 70),\n",
    "    (61, 38, 77, 86),\n",
    "    (62, 12, 77, 86),\n",
    "    (62, 14, 102, 129),\n",
    "    (62, 15, 104, 131),\n",
    "    (62, 17, 106, 131),\n",
    "    (62, 18, 104, 110)]\n",
    "\n",
    "reference = [\n",
    "    (60, 12, 82, 93),\n",
    "    (60, 15, 114, 78),\n",
    "    (60, 21, 116, 96),\n",
    "    (61, 12, 82, 84),\n",
    "    (61, 13, 89, 67),\n",
    "    (61, 17, 97, 70),\n",
    "    (61, 20, 91, 67),\n",
    "    (61, 24, 109, 82),\n",
    "    (61, 25, 110, 78),\n",
    "    (61, 26, 99, 70),\n",
    "    (61, 38, 77, 86),\n",
    "    (62, 12, 77, 86),\n",
    "    (62, 14, 97, 125),\n",
    "    (62, 15, 104, 131),\n",
    "    (62, 17, 106, 131),\n",
    "    (62, 18, 103, 111)]\n",
    "\n",
    "geobleu_val = geobleu.calc_geobleu(generated, reference, processes=3)\n",
    "print(\"geobleu: {}\".format(geobleu_val))\n",
    "\n",
    "dtw_val = geobleu.calc_dtw(generated, reference, processes=3)\n",
    "print(\"dtw: {}\".format(dtw_val))\n",
    "\n",
    "# geobleu: 0.21733678721880598\n",
    "# dtw: 5.889002930255253"
   ]
  }
 ],
 "metadata": {
  "kernelspec": {
   "display_name": "Python 3",
   "language": "python",
   "name": "python3"
  },
  "language_info": {
   "codemirror_mode": {
    "name": "ipython",
    "version": 3
   },
   "file_extension": ".py",
   "mimetype": "text/x-python",
   "name": "python",
   "nbconvert_exporter": "python",
   "pygments_lexer": "ipython3",
   "version": "3.12.4"
  }
 },
 "nbformat": 4,
 "nbformat_minor": 2
}
