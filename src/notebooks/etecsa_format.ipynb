{
 "cells": [
  {
   "cell_type": "code",
   "execution_count": 4,
   "metadata": {},
   "outputs": [],
   "source": [
    "import pandas as pd\n",
    "import numpy as np\n",
    "import ast\n",
    "import glob"
   ]
  },
  {
   "cell_type": "code",
   "execution_count": 5,
   "metadata": {},
   "outputs": [],
   "source": [
    "# Configuración\n",
    "trajectory_length = 48\n",
    "seconds_in_a_half_day = 24 * 60 * 60 / 2\n",
    "intervals_per_day = seconds_in_a_half_day // trajectory_length\n",
    "\n",
    "start_time_limit = 3600 * 6  # 6:00 AM\n",
    "end_time_limit = 3600 * 18  # 6:00 PM"
   ]
  },
  {
   "cell_type": "code",
   "execution_count": 6,
   "metadata": {},
   "outputs": [],
   "source": [
    "import pandas as pd\n",
    "\n",
    "def process_file(file_path):\n",
    "    # Leer el archivo de texto y extraer las líneas\n",
    "    with open(file_path, 'r') as file:\n",
    "        lines = file.readlines()\n",
    "    \n",
    "    # Saltar la primera línea y eliminar espacios en blanco\n",
    "    lines = [line.strip().strip('\"') for line in lines[1:]]\n",
    "\n",
    "    # Lista para almacenar los resultados procesados\n",
    "    processed_rows = []\n",
    "\n",
    "    for i, line in enumerate(lines):\n",
    "        parts = line.split(\"],[\")\n",
    "        \n",
    "        # Asegurar que los corchetes se mantienen\n",
    "        zones = ast.literal_eval(parts[0] + \"]\")      # Añadimos el corchete final\n",
    "        time_start = ast.literal_eval(\"[\" + parts[1] + \"]\") # Añadimos el corchete inicial y final\n",
    "        time_end = ast.literal_eval(\"[\" + parts[2])   # Añadimos el corchete inicial\n",
    "\n",
    "        # Procesar cada elemento y agregarlo a `processed_rows`\n",
    "        processed_rows.extend([\n",
    "            {\n",
    "                'zone': zone,\n",
    "                'time_start': start,\n",
    "                'time_end': end,\n",
    "                'user_index': i\n",
    "            }\n",
    "            for zone, start, end in zip(zones, time_start, time_end)\n",
    "            if zone is not None  # Ignorar valores nulos\n",
    "        ])\n",
    "\n",
    "    # Crear un DataFrame con los datos procesados\n",
    "    return pd.DataFrame(processed_rows)\n"
   ]
  },
  {
   "cell_type": "code",
   "execution_count": 7,
   "metadata": {},
   "outputs": [],
   "source": [
    "def process_all_files(folder_path):\n",
    "    # Procesar todos los archivos .txt en la carpeta\n",
    "    all_files = glob.glob(f\"{folder_path}/*.txt\")\n",
    "    total_files = len(all_files)\n",
    "    \n",
    "    # Lista para almacenar los DataFrames procesados\n",
    "    data_frames = []\n",
    "    \n",
    "    for i, file in enumerate(all_files):\n",
    "        # Procesar el archivo\n",
    "        df = process_file(file)\n",
    "        \n",
    "        # Agregar la columna 'day' al DataFrame procesado\n",
    "        df['day'] = i\n",
    "        \n",
    "        # Añadir a la lista de DataFrames\n",
    "        data_frames.append(df)\n",
    "        print(f\"[{i+1}/{total_files}] Archivo procesado con éxito: {file}\")\n",
    "    \n",
    "    # Concatenar todos los DataFrames en uno solo\n",
    "    return pd.concat(data_frames, ignore_index=True)"
   ]
  },
  {
   "cell_type": "code",
   "execution_count": 19,
   "metadata": {},
   "outputs": [],
   "source": [
    "def expand_intervals(data):\n",
    "    # Calcular los índices `t_start` y `t_end` para todo el DataFrame\n",
    "    t_start = (data['time_start'] // intervals_per_day).astype(int)\n",
    "    t_end = (data['time_end'] // intervals_per_day).astype(int)\n",
    "\n",
    "    # Calcular la longitud de cada intervalo para todos los registros\n",
    "    lengths = t_end - t_start + 1\n",
    "\n",
    "    # Crear un índice repetido para expandir los datos\n",
    "    expanded_indices = np.repeat(data.index, lengths)\n",
    "\n",
    "    # Generar valores `t` para todos los intervalos de una vez\n",
    "    expanded_t = np.concatenate([np.arange(start - 1, end) for start, end in zip(t_start, t_end)])\n",
    "\n",
    "    # Crear el DataFrame expandido\n",
    "    expanded_data = pd.DataFrame({\n",
    "        'uid': data.loc[expanded_indices, 'user_index'].values,\n",
    "        'd': data.loc[expanded_indices, 'day'].values,\n",
    "        't': expanded_t,\n",
    "        'p_i': data.loc[expanded_indices, 'p_i'].values\n",
    "    })\n",
    "\n",
    "    return expanded_data"
   ]
  },
  {
   "cell_type": "code",
   "execution_count": 23,
   "metadata": {},
   "outputs": [],
   "source": [
    "def transform_to_trajectory(data):\n",
    "    # Crear una columna adicional para almacenar `p_i` (si es necesario)\n",
    "    data['p_i'] = data['zone']\n",
    "\n",
    "    # Expandir los intervalos una sola vez en un DataFrame directamente\n",
    "    expanded_df = pd.DataFrame(expand_intervals(data))\n",
    "\n",
    "    # Obtener el tamaño del grupo para inicializar las estructuras necesarias\n",
    "    group_sizes = expanded_df.groupby(['uid', 'd']).size()\n",
    "    total_groups = len(group_sizes)\n",
    "\n",
    "    # Preasignar memoria para trayectorias y metadatos\n",
    "    trajectories = np.empty(total_groups, dtype=object)\n",
    "    user_indices = np.empty(total_groups, dtype=object)\n",
    "    days = np.empty(total_groups, dtype=object)\n",
    "\n",
    "    # Agrupar por `uid` y `d` utilizando `groupby`\n",
    "    grouped = expanded_df.groupby(['uid', 'd'])\n",
    "\n",
    "    # Iterar por los grupos con enumeración\n",
    "    for idx, ((uid, day), group) in enumerate(grouped):\n",
    "        # Inicializar la trayectoria completa con '[PAD]'\n",
    "        trajectory = np.full(trajectory_length, '[PAD]', dtype=object)\n",
    "\n",
    "        # Optimizar el cálculo del valor más frecuente por `t`\n",
    "        t_p_i_grouped = group.groupby('t')['p_i'].agg(lambda x: x.mode()[0])\n",
    "\n",
    "        # Convertir t_p_i_grouped a índices y valores\n",
    "        indices = np.array(t_p_i_grouped.index)\n",
    "        values = np.array(t_p_i_grouped.values, dtype=str)\n",
    "\n",
    "        # Si los índices son menores a 7, ignorar\n",
    "        # if len(indices) < 7:\n",
    "        #     continue \n",
    "\n",
    "        trajectory[indices] = values\n",
    "\n",
    "        # Asignar directamente a las estructuras preasignadas\n",
    "        trajectories[idx] = trajectory\n",
    "        user_indices[idx] = uid\n",
    "        days[idx] = day\n",
    "\n",
    "    # Crear DataFrame con las trayectorias finales\n",
    "    result_df = pd.DataFrame({\n",
    "        'trajectory': trajectories[:len(group_sizes)],\n",
    "        'user_index': user_indices[:len(group_sizes)],\n",
    "        'day': days[:len(group_sizes)]\n",
    "    })\n",
    "\n",
    "    return result_df\n"
   ]
  },
  {
   "cell_type": "code",
   "execution_count": 24,
   "metadata": {},
   "outputs": [],
   "source": [
    "raw_data = pd.read_csv(\"../data/etecsa/etecsa_processed.csv\")\n",
    "raw_data = raw_data[(raw_data['time_start'] >= start_time_limit) & (raw_data['time_end'] <= end_time_limit)]\n",
    "raw_data['time_start'] = raw_data['time_start'] - start_time_limit\n",
    "raw_data['time_end'] = raw_data['time_end'] - start_time_limit"
   ]
  },
  {
   "cell_type": "code",
   "execution_count": 25,
   "metadata": {},
   "outputs": [
    {
     "name": "stdout",
     "output_type": "stream",
     "text": [
      "trajectory    171626\n",
      "user_index    171626\n",
      "day           171626\n",
      "dtype: int64\n"
     ]
    }
   ],
   "source": [
    "data = transform_to_trajectory(raw_data)\n",
    "print(data.count())"
   ]
  },
  {
   "cell_type": "code",
   "execution_count": 26,
   "metadata": {},
   "outputs": [
    {
     "name": "stderr",
     "output_type": "stream",
     "text": [
      "C:\\Users\\alexs\\AppData\\Local\\Temp\\ipykernel_33436\\2226553054.py:3: PerformanceWarning: \n",
      "your performance may suffer as PyTables will pickle object types that it cannot\n",
      "map directly to c-types [inferred_type->mixed,key->block0_values] [items->Index(['trajectory'], dtype='object')]\n",
      "\n",
      "  data.to_hdf(h5_file, key='data', mode='w')\n"
     ]
    }
   ],
   "source": [
    "# Guardar como HDF5\n",
    "h5_file = \"etecsa.h5\"\n",
    "data.to_hdf(h5_file, key='data', mode='w')"
   ]
  }
 ],
 "metadata": {
  "kernelspec": {
   "display_name": "Python 3",
   "language": "python",
   "name": "python3"
  },
  "language_info": {
   "codemirror_mode": {
    "name": "ipython",
    "version": 3
   },
   "file_extension": ".py",
   "mimetype": "text/x-python",
   "name": "python",
   "nbconvert_exporter": "python",
   "pygments_lexer": "ipython3",
   "version": "3.12.4"
  }
 },
 "nbformat": 4,
 "nbformat_minor": 2
}
