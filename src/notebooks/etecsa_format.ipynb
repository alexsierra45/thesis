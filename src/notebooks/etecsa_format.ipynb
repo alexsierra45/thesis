{
 "cells": [
  {
   "cell_type": "code",
   "execution_count": 1,
   "metadata": {},
   "outputs": [],
   "source": [
    "import pandas as pd\n",
    "import numpy as np\n",
    "import ast\n",
    "import glob"
   ]
  },
  {
   "cell_type": "code",
   "execution_count": 2,
   "metadata": {},
   "outputs": [],
   "source": [
    "# Configuración\n",
    "trajectory_length = 48\n",
    "seconds_in_a_half_day = 24 * 60 * 60 / 2\n",
    "intervals_per_day = seconds_in_a_half_day // trajectory_length\n",
    "\n",
    "start_time_limit = 3600 * 6  # 6:00 AM\n",
    "end_time_limit = 3600 * 18  # 6:00 PM"
   ]
  },
  {
   "cell_type": "code",
   "execution_count": 3,
   "metadata": {},
   "outputs": [],
   "source": [
    "import pandas as pd\n",
    "\n",
    "def process_file(file_path):\n",
    "    # Leer el archivo de texto y extraer las líneas\n",
    "    with open(file_path, 'r') as file:\n",
    "        lines = file.readlines()\n",
    "    \n",
    "    # Saltar la primera línea y eliminar espacios en blanco\n",
    "    lines = [line.strip().strip('\"') for line in lines[1:]]\n",
    "\n",
    "    # Lista para almacenar los resultados procesados\n",
    "    processed_rows = []\n",
    "\n",
    "    for i, line in enumerate(lines):\n",
    "        parts = line.split(\"],[\")\n",
    "        \n",
    "        # Asegurar que los corchetes se mantienen\n",
    "        zones = ast.literal_eval(parts[0] + \"]\")      # Añadimos el corchete final\n",
    "        time_start = ast.literal_eval(\"[\" + parts[1] + \"]\") # Añadimos el corchete inicial y final\n",
    "        time_end = ast.literal_eval(\"[\" + parts[2])   # Añadimos el corchete inicial\n",
    "\n",
    "        # Procesar cada elemento y agregarlo a `processed_rows`\n",
    "        processed_rows.extend([\n",
    "            {\n",
    "                'zone': zone,\n",
    "                'time_start': start,\n",
    "                'time_end': end,\n",
    "                'user_index': i\n",
    "            }\n",
    "            for zone, start, end in zip(zones, time_start, time_end)\n",
    "            if zone is not None  # Ignorar valores nulos\n",
    "        ])\n",
    "\n",
    "    # Crear un DataFrame con los datos procesados\n",
    "    return pd.DataFrame(processed_rows)\n"
   ]
  },
  {
   "cell_type": "code",
   "execution_count": 4,
   "metadata": {},
   "outputs": [],
   "source": [
    "def process_all_files(folder_path):\n",
    "    # Procesar todos los archivos .txt en la carpeta\n",
    "    all_files = glob.glob(f\"{folder_path}/*.txt\")\n",
    "    total_files = len(all_files)\n",
    "    \n",
    "    # Lista para almacenar los DataFrames procesados\n",
    "    data_frames = []\n",
    "    \n",
    "    for i, file in enumerate(all_files):\n",
    "        # Procesar el archivo\n",
    "        df = process_file(file)\n",
    "        \n",
    "        # Agregar la columna 'day' al DataFrame procesado\n",
    "        df['day'] = i\n",
    "        \n",
    "        # Añadir a la lista de DataFrames\n",
    "        data_frames.append(df)\n",
    "        print(f\"[{i+1}/{total_files}] Archivo procesado con éxito: {file}\")\n",
    "    \n",
    "    # Concatenar todos los DataFrames en uno solo\n",
    "    return pd.concat(data_frames, ignore_index=True)"
   ]
  },
  {
   "cell_type": "code",
   "execution_count": 9,
   "metadata": {},
   "outputs": [],
   "source": [
    "def expand_intervals(data):\n",
    "    # Calcular los índices `t_start` y `t_end` para todo el DataFrame\n",
    "    t_start = (data['time_start'] // intervals_per_day).astype(int)\n",
    "    t_end = (data['time_end'] // intervals_per_day).astype(int)\n",
    "\n",
    "    # Calcular la longitud de cada intervalo para todos los registros\n",
    "    lengths = t_end - t_start + 1\n",
    "\n",
    "    # Crear un índice repetido para expandir los datos\n",
    "    expanded_indices = np.repeat(data.index, lengths)\n",
    "\n",
    "    # Generar valores `t` para todos los intervalos de una vez\n",
    "    expanded_t = np.concatenate([np.arange(start, end + 1) for start, end in zip(t_start, t_end)])\n",
    "\n",
    "    # Crear el DataFrame expandido\n",
    "    expanded_data = pd.DataFrame({\n",
    "        'uid': data.loc[expanded_indices, 'user_index'].values,\n",
    "        'd': data.loc[expanded_indices, 'day'].values,\n",
    "        't': expanded_t,\n",
    "        'p_i': data.loc[expanded_indices, 'p_i'].values\n",
    "    })\n",
    "\n",
    "    return expanded_data"
   ]
  },
  {
   "cell_type": "code",
   "execution_count": 13,
   "metadata": {},
   "outputs": [],
   "source": [
    "def transform_to_trajectory(data):\n",
    "    # Crear una columna adicional para almacenar `p_i` (si es necesario)\n",
    "    data['p_i'] = data['zone']\n",
    "\n",
    "    # Expandir los intervalos una sola vez en un DataFrame directamente\n",
    "    expanded_df = pd.DataFrame(expand_intervals(data))\n",
    "\n",
    "    # Crear listas para trayectorias finales\n",
    "    trajectories = []\n",
    "    user_indices = []\n",
    "    days = []\n",
    "\n",
    "    # Agrupar por `uid` y `d` utilizando `groupby`\n",
    "    grouped = expanded_df.groupby(['uid', 'd'])\n",
    "\n",
    "    for (uid, day), group in grouped:\n",
    "        # Inicializar la trayectoria completa con '[PAD]'\n",
    "        trajectory = np.full(trajectory_length, '[PAD]', dtype=object)\n",
    "\n",
    "        # Optimizar el cálculo del valor más frecuente por `t`\n",
    "        t_p_i_grouped = group.groupby('t')['p_i'].agg(lambda x: x.mode()[0])\n",
    "\n",
    "        # Convertir t_p_i_grouped a índices y valores\n",
    "        indices = np.array(t_p_i_grouped.index)\n",
    "        values = np.array(t_p_i_grouped.values, dtype=str)\n",
    "\n",
    "        if len(indices) < 7:\n",
    "            continue \n",
    "\n",
    "        trajectory[indices] = values\n",
    "\n",
    "        # Agregar a las listas finales\n",
    "        trajectories.append(trajectory)\n",
    "        user_indices.append(uid)\n",
    "        days.append(day)\n",
    "\n",
    "    # Crear DataFrame con las trayectorias finales\n",
    "    result_df = pd.DataFrame({\n",
    "        'trajectory': trajectories,\n",
    "        'user_index': user_indices,\n",
    "        'day': days\n",
    "    })\n",
    "\n",
    "    return result_df"
   ]
  },
  {
   "cell_type": "code",
   "execution_count": 7,
   "metadata": {},
   "outputs": [],
   "source": [
    "raw_data = pd.read_csv(\"../data/etecsa/etecsa_processed.csv\")\n",
    "raw_data = raw_data[(raw_data['time_start'] >= start_time_limit) & (raw_data['time_end'] <= end_time_limit)]\n",
    "raw_data['time_start'] = raw_data['time_start'] - start_time_limit\n",
    "raw_data['time_end'] = raw_data['time_end'] - start_time_limit"
   ]
  },
  {
   "cell_type": "code",
   "execution_count": null,
   "metadata": {},
   "outputs": [],
   "source": [
    "data = transform_to_trajectory(raw_data)\n",
    "print(data.count())"
   ]
  },
  {
   "cell_type": "code",
   "execution_count": null,
   "metadata": {},
   "outputs": [],
   "source": [
    "# Guardar como HDF5\n",
    "h5_file = \"etecsa.h5\"\n",
    "data.to_hdf(h5_file, key='data', mode='w')"
   ]
  }
 ],
 "metadata": {
  "kernelspec": {
   "display_name": "Python 3",
   "language": "python",
   "name": "python3"
  },
  "language_info": {
   "codemirror_mode": {
    "name": "ipython",
    "version": 3
   },
   "file_extension": ".py",
   "mimetype": "text/x-python",
   "name": "python",
   "nbconvert_exporter": "python",
   "pygments_lexer": "ipython3",
   "version": "3.12.4"
  }
 },
 "nbformat": 4,
 "nbformat_minor": 2
}
