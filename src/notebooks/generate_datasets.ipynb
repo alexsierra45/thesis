{
 "cells": [
  {
   "cell_type": "code",
   "execution_count": 9,
   "metadata": {},
   "outputs": [],
   "source": [
    "import pandas as pd\n",
    "import numpy as np"
   ]
  },
  {
   "cell_type": "code",
   "execution_count": 26,
   "metadata": {},
   "outputs": [],
   "source": [
    "min_pred = 3\n",
    "masked_percents = [0.15, 0.2, 0.3, 0.4, 0.5, 0.6, 0.7, 0.8, 0.9]\n",
    "hidden_percents = [0, 0.1, 0.2, 0.3, 0.4, 0.5, 0.6, 0.7, 0.8, 0.9]"
   ]
  },
  {
   "cell_type": "code",
   "execution_count": 27,
   "metadata": {},
   "outputs": [],
   "source": [
    "df = pd.read_hdf(\"../data/etecsa/etecsa_1.h5\", key='data')\n",
    "trajectories = df['trajectory']"
   ]
  },
  {
   "cell_type": "code",
   "execution_count": 28,
   "metadata": {},
   "outputs": [],
   "source": [
    "from sklearn.model_selection import train_test_split\n",
    "\n",
    "# Dividir en train, valid y test\n",
    "train_df, temp_df = train_test_split(df, test_size=0.3, random_state=42)\n",
    "valid_df, test_df = train_test_split(temp_df, test_size=0.5, random_state=42)"
   ]
  },
  {
   "cell_type": "code",
   "execution_count": 29,
   "metadata": {},
   "outputs": [],
   "source": [
    "# Construir un diccionario word2idx\n",
    "unique_tokens = set(token for trajectory in trajectories for token in trajectory)\n",
    "word2idx = {token: idx for idx, token in enumerate(['[PAD]', '[CLS]', '[SEP]', '[MASK]'] + list(unique_tokens), start=0)}\n",
    "\n",
    "# Inversa para verificar o decodificar más adelante\n",
    "idx2word = {idx: token for token, idx in word2idx.items()}"
   ]
  },
  {
   "cell_type": "code",
   "execution_count": 21,
   "metadata": {},
   "outputs": [],
   "source": [
    "import random\n",
    "\n",
    "def mask_trajectories(trajectories, masked_percent=0.15, hidden_percent=0, min_pred=5):\n",
    "    \"\"\"\n",
    "    Enmascara trayectorias para MLM.\n",
    "\n",
    "    Args:\n",
    "        trajectories: Lista de trayectorias, donde cada trayectoria es una lista de tokens (str).\n",
    "        word2idx: Diccionario que asigna índices a tokens.\n",
    "        max_pred: Mínimo número de tokens a enmascarar.\n",
    "\n",
    "    Returns:\n",
    "        Listado de datos procesados, cada uno con trajectory, masked_tokens, masked_pos.\n",
    "    \"\"\"\n",
    "    total_data = []\n",
    "    vocab_size = len(word2idx)\n",
    "\n",
    "    for tokens in trajectories:\n",
    "        # Convertir tokens a índices\n",
    "        input_ids = ['[CLS]'] + list(tokens) + ['[SEP]']\n",
    "        \n",
    "        # Identificar el primer y último valor conocido (excluyendo tokens especiales)\n",
    "        known_positions = [\n",
    "            i for i, token in enumerate(input_ids)\n",
    "            if token != '[CLS]' and token != '[SEP]' and token != '[PAD]'\n",
    "        ]\n",
    "        if len(known_positions) < 2:\n",
    "            continue  # Saltar trayectorias que no tienen suficientes valores conocidos\n",
    "        \n",
    "        first_known = known_positions[0]\n",
    "        last_known = known_positions[-1]\n",
    "\n",
    "        # Generar posiciones candidatas para el enmascaramiento (excluyendo el primero y último conocido)\n",
    "        cand_masked_pos = [\n",
    "            pos for pos in known_positions\n",
    "            if pos != first_known and pos != last_known\n",
    "        ]\n",
    "\n",
    "        # Establecer una semilla aleatoria fija\n",
    "        random.seed(hash(tuple(tokens)))\n",
    "        \n",
    "        # Barajar las posiciones candidatas\n",
    "        random.shuffle(cand_masked_pos)\n",
    "\n",
    "        # Determinar cuántos tokens enmascarar\n",
    "        n_pred = max(min_pred, int(len(cand_masked_pos) * masked_percent))\n",
    "\n",
    "        masked_tokens, masked_pos = [], []\n",
    "\n",
    "        # Aplicar enmascaramiento\n",
    "        for pos in cand_masked_pos[:n_pred]:\n",
    "            masked_pos.append(str(pos))\n",
    "            masked_tokens.append(str(input_ids[pos]))\n",
    "\n",
    "            if random.random() < 0.8:  # 80% de probabilidad de usar [MASK]\n",
    "                input_ids[pos] = '[MASK]'\n",
    "            elif random.random() > 0.9:  # 10% de probabilidad de usar un token aleatorio\n",
    "                index = random.randint(0, vocab_size - 1)\n",
    "                while index < 4:  # Evitar tokens especiales\n",
    "                    index = random.randint(0, vocab_size - 1)\n",
    "                input_ids[pos] = idx2word[index]\n",
    "\n",
    "        cand_masked_pos = cand_masked_pos[n_pred:]\n",
    "        n_hide = int(len(cand_masked_pos) * hidden_percent)\n",
    "\n",
    "        for pos in cand_masked_pos[:n_hide]:\n",
    "            input_ids[pos] = '[PAD]'\n",
    "\n",
    "        # Guardar los datos\n",
    "        total_data.append({\n",
    "            'trajectory': ' '.join(input_ids[1:-1]),\n",
    "            'masked_tokens': ' '.join(masked_tokens),\n",
    "            'masked_pos': ' '.join(masked_pos)\n",
    "        })\n",
    "\n",
    "    return total_data"
   ]
  },
  {
   "cell_type": "code",
   "execution_count": 30,
   "metadata": {},
   "outputs": [],
   "source": [
    "# Aplicar enmascaramiento a valid y test\n",
    "valid_data = mask_trajectories(valid_df['trajectory'], min_pred=min_pred)\n",
    "test_data = mask_trajectories(test_df['trajectory'], min_pred=min_pred)\n",
    "\n",
    "# Agregar las columnas a los DataFrames\n",
    "valid_df['trajectory'] = [data['trajectory'] for data in valid_data]\n",
    "valid_df['masked_tokens'] = [data['masked_tokens'] for data in valid_data]\n",
    "valid_df['masked_pos'] = [data['masked_pos'] for data in valid_data]\n",
    "\n",
    "test_df['trajectory'] = [data['trajectory'] for data in test_data]\n",
    "test_df['masked_tokens'] = [data['masked_tokens'] for data in test_data]\n",
    "test_df['masked_pos'] = [data['masked_pos'] for data in test_data]"
   ]
  },
  {
   "cell_type": "code",
   "execution_count": 31,
   "metadata": {},
   "outputs": [
    {
     "name": "stderr",
     "output_type": "stream",
     "text": [
      "C:\\Users\\alexs\\AppData\\Local\\Temp\\ipykernel_81552\\2295303125.py:2: PerformanceWarning: \n",
      "your performance may suffer as PyTables will pickle object types that it cannot\n",
      "map directly to c-types [inferred_type->mixed,key->block0_values] [items->Index(['trajectory'], dtype='object')]\n",
      "\n",
      "  train_df.to_hdf(\"train.h5\", key='data', mode='w')\n"
     ]
    }
   ],
   "source": [
    "# Guardar los conjuntos en archivos HDF5\n",
    "train_df.to_hdf(\"train.h5\", key='data', mode='w')\n",
    "valid_df.to_hdf(f\"valid_{min_pred}.h5\", key='data', mode='w')\n",
    "test_df.to_hdf(f\"test_{min_pred}.h5\", key='data', mode='w')"
   ]
  },
  {
   "cell_type": "code",
   "execution_count": 187,
   "metadata": {},
   "outputs": [],
   "source": [
    "for hidden_percent in [m for m in hidden_percents if m > 0.8]:\n",
    "    train_df, temp_df = train_test_split(df, test_size=0.3, random_state=42)\n",
    "    valid_df, test_df = train_test_split(temp_df, test_size=0.5, random_state=42)\n",
    "\n",
    "    # Aplicar enmascaramiento a test\n",
    "    test_data = mask_trajectories(test_df['trajectory'], hidden_percent=hidden_percent, min_pred=min_pred)\n",
    "\n",
    "    # Agregar las columnas a los DataFrames\n",
    "\n",
    "    test_df['trajectory'] = [data['trajectory'] for data in test_data]\n",
    "    test_df['masked_tokens'] = [data['masked_tokens'] for data in test_data]\n",
    "    test_df['masked_pos'] = [data['masked_pos'] for data in test_data]\n",
    "    \n",
    "    # Guardar los conjuntos en archivos HDF5\n",
    "    masked_value = int(0.15 * 100)\n",
    "    hidden_value = int(hidden_percent * 100)\n",
    "    test_df.to_hdf(f\"test_{min_pred}_{masked_value}_{hidden_value}.h5\", key='data', mode='w')"
   ]
  }
 ],
 "metadata": {
  "kernelspec": {
   "display_name": "Python 3",
   "language": "python",
   "name": "python3"
  },
  "language_info": {
   "codemirror_mode": {
    "name": "ipython",
    "version": 3
   },
   "file_extension": ".py",
   "mimetype": "text/x-python",
   "name": "python",
   "nbconvert_exporter": "python",
   "pygments_lexer": "ipython3",
   "version": "3.12.4"
  }
 },
 "nbformat": 4,
 "nbformat_minor": 2
}
