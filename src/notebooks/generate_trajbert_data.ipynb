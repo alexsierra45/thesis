{
 "cells": [
  {
   "cell_type": "code",
   "execution_count": 1,
   "metadata": {},
   "outputs": [],
   "source": [
    "import pandas as pd\n",
    "import numpy as np"
   ]
  },
  {
   "cell_type": "code",
   "execution_count": 2,
   "metadata": {},
   "outputs": [],
   "source": [
    "data = pd.read_csv(\"../data/yjmob100k/yjmob100k-dataset2.csv\")"
   ]
  },
  {
   "cell_type": "code",
   "execution_count": 3,
   "metadata": {},
   "outputs": [],
   "source": [
    "# Rango de locaciones\n",
    "x_min, x_max = 100, 150\n",
    "y_min, y_max = 25, 125\n",
    "\n",
    "# Marcar las filas que están dentro del rango\n",
    "data['in_range'] = (data['x'] > x_min) & (data['x'] <= x_max) & (data['y'] > y_min) & (data['y'] <= y_max)\n",
    "\n",
    "# Calcular si cada usuario/día estuvo exclusivamente dentro del rango\n",
    "group_valid = data.groupby(['uid', 'd'])['in_range'].transform('all')\n",
    "\n",
    "# Filtrar los datos\n",
    "filtered_data = data[group_valid]\n",
    "filtered_data = filtered_data.drop(columns=['in_range'])  # Eliminar la columna auxiliar"
   ]
  },
  {
   "cell_type": "code",
   "execution_count": 6,
   "metadata": {},
   "outputs": [],
   "source": [
    "trajectory_length = 48\n",
    "\n",
    "# Agregar una columna para `p_i`\n",
    "filtered_data['p_i'] = 200 * (filtered_data['x'] - 1) + filtered_data['y']\n",
    "\n",
    "# Crear listas para almacenar resultados\n",
    "trajectories = []\n",
    "user_indices = []\n",
    "days = []\n",
    "\n",
    "# Agrupar por `uid` y `d`\n",
    "grouped = filtered_data.groupby(['uid', 'd'])\n",
    "\n",
    "for (uid, day), group in grouped:\n",
    "    if len(group) < 10:\n",
    "        continue # Ignorar grupos con menos de 10 registros\n",
    "    \n",
    "    # Crear un array para toda la trayectoria inicializado en 'PAD'\n",
    "    trajectory = np.full(trajectory_length, '[PAD]', dtype=object)\n",
    "    \n",
    "    # Asignar los valores de `p_i` según el índice de `t`\n",
    "    trajectory[group['t'].values] = group['p_i'].astype(str).values\n",
    "    \n",
    "    # Guardar resultados\n",
    "    trajectories.append(trajectory.tolist())\n",
    "    user_indices.append(uid)\n",
    "    days.append(day)"
   ]
  },
  {
   "cell_type": "code",
   "execution_count": 7,
   "metadata": {},
   "outputs": [],
   "source": [
    "df = pd.DataFrame({\n",
    "    'trajectory': trajectories,\n",
    "    'user_index': user_indices,\n",
    "    'day': days\n",
    "})"
   ]
  },
  {
   "cell_type": "code",
   "execution_count": 8,
   "metadata": {},
   "outputs": [],
   "source": [
    "from sklearn.model_selection import train_test_split\n",
    "\n",
    "# Dividir en train, valid y test\n",
    "train_df, temp_df = train_test_split(df, test_size=0.3, random_state=42)\n",
    "valid_df, test_df = train_test_split(temp_df, test_size=0.5, random_state=42)"
   ]
  },
  {
   "cell_type": "code",
   "execution_count": 9,
   "metadata": {},
   "outputs": [],
   "source": [
    "# Construir un diccionario word2idx\n",
    "unique_tokens = set(token for trajectory in trajectories for token in trajectory)\n",
    "word2idx = {token: idx for idx, token in enumerate(['[PAD]', '[CLS]', '[SEP]', '[MASK]'] + list(unique_tokens), start=0)}\n",
    "\n",
    "# Inversa para verificar o decodificar más adelante\n",
    "idx2word = {idx: token for token, idx in word2idx.items()}"
   ]
  },
  {
   "cell_type": "code",
   "execution_count": 10,
   "metadata": {},
   "outputs": [],
   "source": [
    "from random import shuffle, random, randint\n",
    "\n",
    "def mask_trajectories(trajectories, max_pred=5):\n",
    "    \"\"\"\n",
    "    Enmascara trayectorias para MLM.\n",
    "\n",
    "    Args:\n",
    "        trajectories: Lista de trayectorias, donde cada trayectoria es una lista de tokens (str).\n",
    "        word2idx: Diccionario que asigna índices a tokens.\n",
    "        max_pred: Máximo número de tokens a enmascarar.\n",
    "\n",
    "    Returns:\n",
    "        Listado de datos procesados, cada uno con trajectory, masked_tokens, masked_pos.\n",
    "    \"\"\"\n",
    "    total_data = []\n",
    "    vocab_size = len(word2idx)\n",
    "\n",
    "    for tokens in trajectories:\n",
    "        # Convertir tokens a índices\n",
    "        input_ids = ['[CLS]'] + tokens + ['[SEP]']\n",
    "        \n",
    "        # Generar posiciones candidatas para el enmascaramiento\n",
    "        cand_masked_pos = [\n",
    "            i for i, token in enumerate(input_ids)\n",
    "            if token != '[CLS]' and token != '[SEP]' and token != '[PAD]'\n",
    "        ]\n",
    "        shuffle(cand_masked_pos)\n",
    "\n",
    "        # Determinar cuántos tokens enmascarar\n",
    "        n_pred = min(max_pred, max(1, int(len(input_ids) * 0.15)))\n",
    "        if n_pred < max_pred:\n",
    "            continue  # Ignorar trayectorias muy cortas\n",
    "\n",
    "        masked_tokens, masked_pos = [], []\n",
    "\n",
    "        # Aplicar enmascaramiento\n",
    "        for pos in cand_masked_pos[:n_pred]:\n",
    "            masked_pos.append(str(pos))\n",
    "            masked_tokens.append(str(input_ids[pos]))\n",
    "\n",
    "            if random() < 0.8:  # 80% de probabilidad de usar [MASK]\n",
    "                input_ids[pos] = '[MASK]'\n",
    "            elif random() > 0.9:  # 10% de probabilidad de usar un token aleatorio\n",
    "                index = randint(0, vocab_size - 1)\n",
    "                while index < 4:  # Evitar tokens especiales\n",
    "                    index = randint(0, vocab_size - 1)\n",
    "                input_ids[pos] = idx2word[index]\n",
    "\n",
    "        # Guardar los datos\n",
    "        total_data.append({\n",
    "            'trajectory': ' '.join(input_ids[1:-1]),\n",
    "            'masked_tokens': ' '.join(masked_tokens),\n",
    "            'masked_pos': ' '.join(masked_pos)\n",
    "        })\n",
    "\n",
    "    return total_data"
   ]
  },
  {
   "cell_type": "code",
   "execution_count": 11,
   "metadata": {},
   "outputs": [],
   "source": [
    "# Aplicar enmascaramiento a valid y test\n",
    "valid_data = mask_trajectories(valid_df['trajectory'])\n",
    "test_data = mask_trajectories(test_df['trajectory'])\n",
    "\n",
    "# Agregar las columnas a los DataFrames\n",
    "valid_df['trajectory'] = [data['trajectory'] for data in valid_data]\n",
    "valid_df['masked_tokens'] = [data['masked_tokens'] for data in valid_data]\n",
    "valid_df['masked_pos'] = [data['masked_pos'] for data in valid_data]\n",
    "\n",
    "test_df['trajectory'] = [data['trajectory'] for data in test_data]\n",
    "test_df['masked_tokens'] = [data['masked_tokens'] for data in test_data]\n",
    "test_df['masked_pos'] = [data['masked_pos'] for data in test_data]\n"
   ]
  },
  {
   "cell_type": "code",
   "execution_count": 12,
   "metadata": {},
   "outputs": [
    {
     "name": "stderr",
     "output_type": "stream",
     "text": [
      "C:\\Users\\alexs\\AppData\\Local\\Temp\\ipykernel_35476\\1175898396.py:2: PerformanceWarning: \n",
      "your performance may suffer as PyTables will pickle object types that it cannot\n",
      "map directly to c-types [inferred_type->mixed,key->block0_values] [items->Index(['trajectory'], dtype='object')]\n",
      "\n",
      "  train_df.to_hdf(\"train_5.h5\", key='data', mode='w')\n"
     ]
    }
   ],
   "source": [
    "# Guardar los conjuntos en archivos HDF5\n",
    "train_df.to_hdf(\"train_5.h5\", key='data', mode='w')\n",
    "valid_df.to_hdf(\"valid_5.h5\", key='data', mode='w')\n",
    "test_df.to_hdf(\"test_5.h5\", key='data', mode='w')"
   ]
  }
 ],
 "metadata": {
  "kernelspec": {
   "display_name": "Python 3",
   "language": "python",
   "name": "python3"
  },
  "language_info": {
   "codemirror_mode": {
    "name": "ipython",
    "version": 3
   },
   "file_extension": ".py",
   "mimetype": "text/x-python",
   "name": "python",
   "nbconvert_exporter": "python",
   "pygments_lexer": "ipython3",
   "version": "3.12.4"
  }
 },
 "nbformat": 4,
 "nbformat_minor": 2
}
