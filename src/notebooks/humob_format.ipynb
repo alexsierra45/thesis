{
 "cells": [
  {
   "cell_type": "code",
   "execution_count": 1,
   "metadata": {},
   "outputs": [],
   "source": [
    "import pandas as pd\n",
    "import numpy as np"
   ]
  },
  {
   "cell_type": "code",
   "execution_count": 2,
   "metadata": {},
   "outputs": [],
   "source": [
    "data = pd.read_csv(\"../data/humob/humob_processed.csv\")"
   ]
  },
  {
   "cell_type": "code",
   "execution_count": 3,
   "metadata": {},
   "outputs": [],
   "source": [
    "trajectory_length = 48\n",
    "\n",
    "# Agregar una columna para `p_i`\n",
    "data['p_i'] = 20 * (data['x'] - 1) + data['y']\n",
    "\n",
    "# Crear listas para almacenar resultados\n",
    "trajectories = []\n",
    "user_indices = []\n",
    "days = []\n",
    "\n",
    "# Agrupar por `uid` y `d`\n",
    "grouped = data.groupby(['uid', 'd'])\n",
    "\n",
    "for (uid, day), group in grouped:\n",
    "    if len(group) < 10:\n",
    "        continue # Ignorar grupos con menos de 10 registros\n",
    "    \n",
    "    # Crear un array para toda la trayectoria inicializado en 'PAD'\n",
    "    trajectory = np.full(trajectory_length, '[PAD]', dtype=object)\n",
    "    \n",
    "    # Asignar los valores de `p_i` según el índice de `t`\n",
    "    trajectory[group['t'].values] = group['p_i'].astype(str).values\n",
    "    \n",
    "    # Guardar resultados\n",
    "    trajectories.append(trajectory.tolist())\n",
    "    user_indices.append(uid)\n",
    "    days.append(day)"
   ]
  },
  {
   "cell_type": "code",
   "execution_count": 4,
   "metadata": {},
   "outputs": [],
   "source": [
    "df = pd.DataFrame({\n",
    "    'trajectory': trajectories,\n",
    "    'user_index': user_indices,\n",
    "    'day': days\n",
    "})"
   ]
  },
  {
   "cell_type": "code",
   "execution_count": 5,
   "metadata": {},
   "outputs": [
    {
     "name": "stderr",
     "output_type": "stream",
     "text": [
      "C:\\Users\\alexs\\AppData\\Local\\Temp\\ipykernel_74596\\1694227914.py:3: PerformanceWarning: \n",
      "your performance may suffer as PyTables will pickle object types that it cannot\n",
      "map directly to c-types [inferred_type->mixed,key->block0_values] [items->Index(['trajectory'], dtype='object')]\n",
      "\n",
      "  df.to_hdf(h5_file, key='data', mode='w')\n"
     ]
    }
   ],
   "source": [
    "# Guardar como HDF5\n",
    "h5_file = \"humob.h5\"\n",
    "df.to_hdf(h5_file, key='data', mode='w')"
   ]
  }
 ],
 "metadata": {
  "kernelspec": {
   "display_name": "Python 3",
   "language": "python",
   "name": "python3"
  },
  "language_info": {
   "codemirror_mode": {
    "name": "ipython",
    "version": 3
   },
   "file_extension": ".py",
   "mimetype": "text/x-python",
   "name": "python",
   "nbconvert_exporter": "python",
   "pygments_lexer": "ipython3",
   "version": "3.12.4"
  }
 },
 "nbformat": 4,
 "nbformat_minor": 2
}
