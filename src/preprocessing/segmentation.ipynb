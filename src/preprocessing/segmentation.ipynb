{
 "cells": [
  {
   "cell_type": "code",
   "execution_count": 1,
   "metadata": {},
   "outputs": [],
   "source": [
    "import sys\n",
    "sys.path.append(\"..\")"
   ]
  },
  {
   "cell_type": "code",
   "execution_count": null,
   "metadata": {},
   "outputs": [],
   "source": [
    "import pandas as pd\n",
    "\n",
    "from configurations import *\n",
    "\n",
    "# Load dataset\n",
    "df = pd.read_csv(f'../{LOAD_DATA_PATH}/{DATA_CSV_NAME}')"
   ]
  },
  {
   "cell_type": "code",
   "execution_count": 3,
   "metadata": {},
   "outputs": [],
   "source": [
    "# Select only users with uid < 22.5k\n",
    "df = df[df['uid'] < 22500]"
   ]
  },
  {
   "cell_type": "code",
   "execution_count": 4,
   "metadata": {},
   "outputs": [],
   "source": [
    "from sklearn.model_selection import train_test_split\n",
    "\n",
    "unique_users = df['uid'].unique()\n",
    "\n",
    "train_users, temp_users = train_test_split(unique_users, test_size=0.4, random_state=RANDOM_SEED)\n",
    "val_users, test_users = train_test_split(temp_users, test_size=0.5, random_state=RANDOM_SEED)"
   ]
  },
  {
   "cell_type": "code",
   "execution_count": 5,
   "metadata": {},
   "outputs": [],
   "source": [
    "train_set = df[df['uid'].isin(train_users)]\n",
    "val_set = df[df['uid'].isin(val_users)]\n",
    "test_set = df[df['uid'].isin(test_users)]"
   ]
  },
  {
   "cell_type": "code",
   "execution_count": 11,
   "metadata": {},
   "outputs": [],
   "source": [
    "train_set.to_csv(f'../{SAVE_DATA_PATH}train_set.csv', index=False)\n",
    "val_set.to_csv(f'../{SAVE_DATA_PATH}val_set.csv', index=False)\n",
    "test_set.to_csv(f'../{SAVE_DATA_PATH}test_set.csv', index=False)"
   ]
  }
 ],
 "metadata": {
  "kernelspec": {
   "display_name": "Python 3",
   "language": "python",
   "name": "python3"
  },
  "language_info": {
   "codemirror_mode": {
    "name": "ipython",
    "version": 3
   },
   "file_extension": ".py",
   "mimetype": "text/x-python",
   "name": "python",
   "nbconvert_exporter": "python",
   "pygments_lexer": "ipython3",
   "version": "3.12.4"
  }
 },
 "nbformat": 4,
 "nbformat_minor": 2
}
