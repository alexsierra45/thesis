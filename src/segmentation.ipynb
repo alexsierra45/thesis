{
 "cells": [
  {
   "cell_type": "code",
   "execution_count": 1,
   "metadata": {},
   "outputs": [],
   "source": [
    "import pandas as pd\n",
    "from pandas import DataFrame\n",
    "\n",
    "from configurations import *\n",
    "\n",
    "# Load dataset\n",
    "df = pd.read_csv(f'{LOAD_DATA_PATH}/{DATA_CSV_NAME}')"
   ]
  },
  {
   "cell_type": "code",
   "execution_count": 2,
   "metadata": {},
   "outputs": [],
   "source": [
    "# get users\n",
    "user_groups = df.groupby('uid')"
   ]
  },
  {
   "cell_type": "code",
   "execution_count": 3,
   "metadata": {},
   "outputs": [],
   "source": [
    "def rounded_mid_point(x1, y1, x2, y2):\n",
    "    x = (x1 + x2) / 2\n",
    "    x //= 1 \n",
    "    y = (y1 + y2) / 2\n",
    "    y //= 1\n",
    "\n",
    "    return x, y\n",
    "\n",
    "def manhattan_distance(x1, y1, x2, y2):\n",
    "    return abs(x1 - x2) + abs(y1 - y2)"
   ]
  },
  {
   "cell_type": "code",
   "execution_count": 6,
   "metadata": {},
   "outputs": [],
   "source": [
    "import numpy as np\n",
    "\n",
    "df = df.sort_values(by=['d', 't'], ascending=[True, True])\n",
    "\n",
    "distances = []\n",
    "\n",
    "for user, user_data in user_groups:\n",
    "    trayectory = np.array(list(zip(user_data['x'], user_data['y'])))\n",
    "\n",
    "    t1 = trayectory[:-2]\n",
    "    t2 = trayectory[2:]\n",
    "    t_mid = (t1 + t2) // 2\n",
    "\n",
    "    dists = np.abs(trayectory[:-2] - t_mid).sum(axis=1)\n",
    "    distances.extend(dists)\n",
    "\n",
    "mean_distance = np.mean(distances)"
   ]
  },
  {
   "cell_type": "code",
   "execution_count": 7,
   "metadata": {},
   "outputs": [
    {
     "name": "stdout",
     "output_type": "stream",
     "text": [
      "Mean distance: 6.204684777637327\n"
     ]
    }
   ],
   "source": [
    "print(\"Mean distance:\", mean_distance)"
   ]
  }
 ],
 "metadata": {
  "kernelspec": {
   "display_name": "Python 3",
   "language": "python",
   "name": "python3"
  },
  "language_info": {
   "codemirror_mode": {
    "name": "ipython",
    "version": 3
   },
   "file_extension": ".py",
   "mimetype": "text/x-python",
   "name": "python",
   "nbconvert_exporter": "python",
   "pygments_lexer": "ipython3",
   "version": "3.12.4"
  }
 },
 "nbformat": 4,
 "nbformat_minor": 2
}
