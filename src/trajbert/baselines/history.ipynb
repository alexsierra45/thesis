{
 "cells": [
  {
   "cell_type": "code",
   "execution_count": 31,
   "metadata": {},
   "outputs": [],
   "source": [
    "import os\n",
    "import pandas as pd"
   ]
  },
  {
   "cell_type": "code",
   "execution_count": 32,
   "metadata": {},
   "outputs": [],
   "source": [
    "root_path = '..'\n",
    "data_path = 'data/'\n",
    "data_type = 'humob'\n",
    "\n",
    "pre_len = 5\n",
    "masked_percent = 15"
   ]
  },
  {
   "cell_type": "code",
   "execution_count": 33,
   "metadata": {},
   "outputs": [
    {
     "name": "stdout",
     "output_type": "stream",
     "text": [
      "success load  humob/train.h5 humob/test_5_15.h5\n"
     ]
    }
   ],
   "source": [
    "train_data_name = f'{data_type}/train.h5'\n",
    "test_data_name = f'{data_type}/test_{pre_len}_{masked_percent}.h5'\n",
    "    \n",
    "print('success load ', train_data_name, test_data_name)\n",
    "train_df = pd.read_hdf(os.path.join(root_path, data_path, train_data_name))\n",
    "test_df = pd.read_hdf(os.path.join(root_path, data_path, test_data_name))"
   ]
  },
  {
   "cell_type": "code",
   "execution_count": 34,
   "metadata": {},
   "outputs": [],
   "source": [
    "class DataSet:\n",
    "    def __init__(self, train_df, test_df):\n",
    "        self.train_df = train_df\n",
    "        self.test_df = test_df\n",
    "\n",
    "    def gen_train_data(self):\n",
    "        # ['trajectory', 'user_index', 'day']\n",
    "        records = []\n",
    "        for _, row in self.train_df.iterrows():\n",
    "            seq, user_index, day = row['trajectory'], row['user_index'], row['day']\n",
    "            records.append([seq, user_index, day])\n",
    "        print(\"All train length is \" + str(len(records)))\n",
    "        return records\n",
    "\n",
    "    def gen_test_data(self):\n",
    "        # ['trajectory', 'masked_pos', 'masked_tokens']\n",
    "        test_df = self.test_df\n",
    "        records = []\n",
    "        for _, row in test_df.iterrows():\n",
    "            seq, masked_pos, masked_tokens = row['trajectory'], row['masked_pos'], row['masked_tokens']\n",
    "            user_index, day = row['user_index'], row['day']\n",
    "            seq, masked_pos, masked_tokens = list(seq.split()), list(map(int, masked_pos.split())), \\\n",
    "                                                list(map(int, masked_tokens.split()))\n",
    "            records.append([seq, masked_pos, masked_tokens, user_index, day])\n",
    "        print(\"All test length is \" + str(len(records)))\n",
    "        return records"
   ]
  },
  {
   "cell_type": "code",
   "execution_count": 35,
   "metadata": {},
   "outputs": [
    {
     "name": "stdout",
     "output_type": "stream",
     "text": [
      "All train length is 159073\n",
      "All test length is 34088\n"
     ]
    }
   ],
   "source": [
    "dataset = DataSet(train_df, test_df)\n",
    "    \n",
    "train_data = dataset.gen_train_data()  # [seq, user_index, day]\n",
    "test_data = dataset.gen_test_data()  # [seq, masked_pos, masked_tokens, user_index, day]"
   ]
  },
  {
   "cell_type": "code",
   "execution_count": 36,
   "metadata": {},
   "outputs": [],
   "source": [
    "from collections import defaultdict, Counter\n",
    "\n",
    "def most_frequent_location_per_interval(data):\n",
    "    \"\"\"\n",
    "    Determina el lugar más frecuente para cada usuario en cada intervalo de tiempo.\n",
    "    \n",
    "    Args:\n",
    "    data (list): Lista de listas, donde cada elemento tiene el formato:\n",
    "                 [trayectoria, user_id, día].\n",
    "                 \n",
    "    Returns:\n",
    "    dict: Diccionario que mapea user_id a otro diccionario con el intervalo como clave\n",
    "          y el lugar más frecuente como valor.\n",
    "    \"\"\"\n",
    "    # Diccionario para almacenar las frecuencias por usuario e intervalo\n",
    "    user_interval_data = defaultdict(lambda: defaultdict(list))\n",
    "    \n",
    "    # Procesar cada registro\n",
    "    for record in data:\n",
    "        trajectory, user_id, day = record\n",
    "        for interval, location in enumerate(trajectory):\n",
    "            if location != \"[PAD]\":  # Ignorar los valores [PAD]\n",
    "                user_interval_data[user_id][interval].append(location)\n",
    "    \n",
    "    # Determinar el lugar más frecuente por usuario e intervalo\n",
    "    result = defaultdict(dict)\n",
    "    for user_id, intervals in user_interval_data.items():\n",
    "        for interval, locations in intervals.items():\n",
    "            most_common_location = Counter(locations).most_common(1)[0][0]\n",
    "            result[user_id][interval] = most_common_location\n",
    "\n",
    "    return result"
   ]
  },
  {
   "cell_type": "code",
   "execution_count": 37,
   "metadata": {},
   "outputs": [],
   "source": [
    "history = most_frequent_location_per_interval(train_data)"
   ]
  },
  {
   "cell_type": "code",
   "execution_count": 38,
   "metadata": {},
   "outputs": [],
   "source": [
    "def predict_masked_values(data, history):\n",
    "    result = []\n",
    "\n",
    "    total_masked_values = 0\n",
    "    total_predicted_values = 0\n",
    "\n",
    "    for record in data:\n",
    "        trajectory, masked_pos, masked_values, user_id, day = record\n",
    "        total_masked_values += len(masked_pos)\n",
    "\n",
    "        for i in range(48):\n",
    "            for j in range(len(masked_pos)):\n",
    "                if masked_pos[j] == i:\n",
    "                    try:\n",
    "                        trajectory[i] = history[user_id][i]\n",
    "                        if trajectory[i] == str(masked_values[j]):\n",
    "                            total_predicted_values += 1\n",
    "                    except:\n",
    "                        pass\n",
    "                    continue\n",
    "\n",
    "        result.append([trajectory, masked_pos, masked_values, user_id, day])\n",
    "\n",
    "    return result, total_predicted_values / total_masked_values\n"
   ]
  },
  {
   "cell_type": "code",
   "execution_count": 39,
   "metadata": {},
   "outputs": [],
   "source": [
    "result, accuracy = predict_masked_values(test_data, history)"
   ]
  },
  {
   "cell_type": "code",
   "execution_count": 40,
   "metadata": {},
   "outputs": [
    {
     "data": {
      "text/plain": [
       "0.5142733639810039"
      ]
     },
     "execution_count": 40,
     "metadata": {},
     "output_type": "execute_result"
    }
   ],
   "source": [
    "accuracy"
   ]
  }
 ],
 "metadata": {
  "kernelspec": {
   "display_name": "Python 3",
   "language": "python",
   "name": "python3"
  },
  "language_info": {
   "codemirror_mode": {
    "name": "ipython",
    "version": 3
   },
   "file_extension": ".py",
   "mimetype": "text/x-python",
   "name": "python",
   "nbconvert_exporter": "python",
   "pygments_lexer": "ipython3",
   "version": "3.12.4"
  }
 },
 "nbformat": 4,
 "nbformat_minor": 2
}
