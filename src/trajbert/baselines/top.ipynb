{
 "cells": [
  {
   "cell_type": "code",
   "execution_count": 1,
   "metadata": {},
   "outputs": [],
   "source": [
    "import os\n",
    "import pandas as pd"
   ]
  },
  {
   "cell_type": "code",
   "execution_count": 2,
   "metadata": {},
   "outputs": [],
   "source": [
    "root_path = '..'\n",
    "data_path = 'data/'\n",
    "data_type = 'humob'\n",
    "\n",
    "pre_len = 7"
   ]
  },
  {
   "cell_type": "code",
   "execution_count": 3,
   "metadata": {},
   "outputs": [
    {
     "name": "stdout",
     "output_type": "stream",
     "text": [
      "success load  humob/train.h5 humob/test_7.h5\n"
     ]
    },
    {
     "ename": "FileNotFoundError",
     "evalue": "File ..\\data/humob/test_7.h5 does not exist",
     "output_type": "error",
     "traceback": [
      "\u001b[1;31m---------------------------------------------------------------------------\u001b[0m",
      "\u001b[1;31mFileNotFoundError\u001b[0m                         Traceback (most recent call last)",
      "Cell \u001b[1;32mIn[3], line 6\u001b[0m\n\u001b[0;32m      4\u001b[0m \u001b[38;5;28mprint\u001b[39m(\u001b[38;5;124m'\u001b[39m\u001b[38;5;124msuccess load \u001b[39m\u001b[38;5;124m'\u001b[39m, train_data_name, test_data_name)\n\u001b[0;32m      5\u001b[0m train_df \u001b[38;5;241m=\u001b[39m pd\u001b[38;5;241m.\u001b[39mread_hdf(os\u001b[38;5;241m.\u001b[39mpath\u001b[38;5;241m.\u001b[39mjoin(root_path, data_path, train_data_name))\n\u001b[1;32m----> 6\u001b[0m test_df \u001b[38;5;241m=\u001b[39m \u001b[43mpd\u001b[49m\u001b[38;5;241;43m.\u001b[39;49m\u001b[43mread_hdf\u001b[49m\u001b[43m(\u001b[49m\u001b[43mos\u001b[49m\u001b[38;5;241;43m.\u001b[39;49m\u001b[43mpath\u001b[49m\u001b[38;5;241;43m.\u001b[39;49m\u001b[43mjoin\u001b[49m\u001b[43m(\u001b[49m\u001b[43mroot_path\u001b[49m\u001b[43m,\u001b[49m\u001b[43m \u001b[49m\u001b[43mdata_path\u001b[49m\u001b[43m,\u001b[49m\u001b[43m \u001b[49m\u001b[43mtest_data_name\u001b[49m\u001b[43m)\u001b[49m\u001b[43m)\u001b[49m\n",
      "File \u001b[1;32mc:\\Users\\alexs\\AppData\\Local\\Programs\\Python\\Python312\\Lib\\site-packages\\pandas\\io\\pytables.py:424\u001b[0m, in \u001b[0;36mread_hdf\u001b[1;34m(path_or_buf, key, mode, errors, where, start, stop, columns, iterator, chunksize, **kwargs)\u001b[0m\n\u001b[0;32m    421\u001b[0m     exists \u001b[38;5;241m=\u001b[39m \u001b[38;5;28;01mFalse\u001b[39;00m\n\u001b[0;32m    423\u001b[0m \u001b[38;5;28;01mif\u001b[39;00m \u001b[38;5;129;01mnot\u001b[39;00m exists:\n\u001b[1;32m--> 424\u001b[0m     \u001b[38;5;28;01mraise\u001b[39;00m \u001b[38;5;167;01mFileNotFoundError\u001b[39;00m(\u001b[38;5;124mf\u001b[39m\u001b[38;5;124m\"\u001b[39m\u001b[38;5;124mFile \u001b[39m\u001b[38;5;132;01m{\u001b[39;00mpath_or_buf\u001b[38;5;132;01m}\u001b[39;00m\u001b[38;5;124m does not exist\u001b[39m\u001b[38;5;124m\"\u001b[39m)\n\u001b[0;32m    426\u001b[0m store \u001b[38;5;241m=\u001b[39m HDFStore(path_or_buf, mode\u001b[38;5;241m=\u001b[39mmode, errors\u001b[38;5;241m=\u001b[39merrors, \u001b[38;5;241m*\u001b[39m\u001b[38;5;241m*\u001b[39mkwargs)\n\u001b[0;32m    427\u001b[0m \u001b[38;5;66;03m# can't auto open/close if we are using an iterator\u001b[39;00m\n\u001b[0;32m    428\u001b[0m \u001b[38;5;66;03m# so delegate to the iterator\u001b[39;00m\n",
      "\u001b[1;31mFileNotFoundError\u001b[0m: File ..\\data/humob/test_7.h5 does not exist"
     ]
    }
   ],
   "source": [
    "train_data_name = f'{data_type}/train.h5'\n",
    "test_data_name = f'{data_type}/test_{pre_len}.h5'\n",
    "    \n",
    "print('success load ', train_data_name, test_data_name)\n",
    "train_df = pd.read_hdf(os.path.join(root_path, data_path, train_data_name))\n",
    "test_df = pd.read_hdf(os.path.join(root_path, data_path, test_data_name))"
   ]
  },
  {
   "cell_type": "code",
   "execution_count": 18,
   "metadata": {},
   "outputs": [],
   "source": [
    "class DataSet:\n",
    "    def __init__(self, train_df, test_df):\n",
    "        self.train_df = train_df\n",
    "        self.test_df = test_df\n",
    "\n",
    "    def gen_train_data(self):\n",
    "        # ['trajectory', 'user_index', 'day']\n",
    "        records = []\n",
    "        for _, row in self.train_df.iterrows():\n",
    "            seq, user_index, day = row['trajectory'], row['user_index'], row['day']\n",
    "            records.append([seq, user_index, day])\n",
    "        print(\"All train length is \" + str(len(records)))\n",
    "        return records\n",
    "\n",
    "    def gen_test_data(self):\n",
    "        # ['trajectory', 'masked_pos', 'masked_tokens']\n",
    "        test_df = self.test_df\n",
    "        records = []\n",
    "        for _, row in test_df.iterrows():\n",
    "            seq, masked_pos, masked_tokens = row['trajectory'], row['masked_pos'], row['masked_tokens']\n",
    "            user_index, day = row['user_index'], row['day']\n",
    "            seq, masked_pos, masked_tokens = list(seq.split()), list(map(int, masked_pos.split())), \\\n",
    "                                                list(map(int, masked_tokens.split()))\n",
    "            records.append([seq, masked_pos, masked_tokens, user_index, day])\n",
    "        print(\"All test length is \" + str(len(records)))\n",
    "        return records"
   ]
  },
  {
   "cell_type": "code",
   "execution_count": 19,
   "metadata": {},
   "outputs": [
    {
     "name": "stdout",
     "output_type": "stream",
     "text": [
      "All train length is 159073\n",
      "All test length is 34088\n"
     ]
    }
   ],
   "source": [
    "dataset = DataSet(train_df, test_df)\n",
    "    \n",
    "train_data = dataset.gen_train_data()  # [seq, user_index, day]\n",
    "test_data = dataset.gen_test_data()  # [seq, masked_pos, masked_tokens, user_index, day]"
   ]
  },
  {
   "cell_type": "code",
   "execution_count": 20,
   "metadata": {},
   "outputs": [],
   "source": [
    "from collections import defaultdict, Counter\n",
    "\n",
    "def most_frequent_location(data):\n",
    "    \"\"\"\n",
    "    Determina el lugar más frecuente para cada usuario.\n",
    "\n",
    "    Args:\n",
    "    data (list): Lista de listas, donde cada elemento tiene el formato:\n",
    "                 [trayectoria, user_id, día].\n",
    "\n",
    "    Returns:\n",
    "    dict: Diccionario que mapea user_id al lugar más frecuente como valor.\n",
    "    \"\"\"\n",
    "    # Diccionario para almacenar las frecuencias por usuario\n",
    "    user_data = defaultdict(list)\n",
    "\n",
    "    # Procesar cada registro\n",
    "    for record in data:\n",
    "        trajectory, user_id, _ = record\n",
    "        for location in trajectory:\n",
    "            if location != \"[PAD]\":  # Ignorar los valores [PAD]\n",
    "                user_data[user_id].append(location)\n",
    "\n",
    "    # Determinar el lugar más frecuente por usuario\n",
    "    result = {}\n",
    "    for user_id, locations in user_data.items():\n",
    "        most_common_location = Counter(locations).most_common(1)[0][0]\n",
    "        result[user_id] = most_common_location\n",
    "\n",
    "    return result"
   ]
  },
  {
   "cell_type": "code",
   "execution_count": 21,
   "metadata": {},
   "outputs": [],
   "source": [
    "top = most_frequent_location(train_data)"
   ]
  },
  {
   "cell_type": "code",
   "execution_count": 22,
   "metadata": {},
   "outputs": [],
   "source": [
    "def predict_masked_values(data, top):\n",
    "    result = []\n",
    "\n",
    "    total_masked_values = 0\n",
    "    total_predicted_values = 0\n",
    "\n",
    "    for record in data:\n",
    "        trajectory, masked_pos, masked_values, user_id, day = record\n",
    "        total_masked_values += len(masked_pos)\n",
    "\n",
    "        for i in range(48):\n",
    "            for j in range(len(masked_pos)):\n",
    "                if masked_pos[j] == i:\n",
    "                    try:\n",
    "                        trajectory[i] = top[user_id]\n",
    "                        if trajectory[i] == str(masked_values[j]):\n",
    "                            total_predicted_values += 1\n",
    "                    except:\n",
    "                        pass\n",
    "                    continue\n",
    "\n",
    "        result.append([trajectory, masked_pos, masked_values, user_id, day])\n",
    "\n",
    "    return result, total_predicted_values / total_masked_values\n"
   ]
  },
  {
   "cell_type": "code",
   "execution_count": 23,
   "metadata": {},
   "outputs": [],
   "source": [
    "result, accuracy = predict_masked_values(test_data, top)"
   ]
  },
  {
   "cell_type": "code",
   "execution_count": 24,
   "metadata": {},
   "outputs": [
    {
     "data": {
      "text/plain": [
       "0.49241459080698696"
      ]
     },
     "execution_count": 24,
     "metadata": {},
     "output_type": "execute_result"
    }
   ],
   "source": [
    "accuracy"
   ]
  }
 ],
 "metadata": {
  "kernelspec": {
   "display_name": "Python 3",
   "language": "python",
   "name": "python3"
  },
  "language_info": {
   "codemirror_mode": {
    "name": "ipython",
    "version": 3
   },
   "file_extension": ".py",
   "mimetype": "text/x-python",
   "name": "python",
   "nbconvert_exporter": "python",
   "pygments_lexer": "ipython3",
   "version": "3.12.4"
  }
 },
 "nbformat": 4,
 "nbformat_minor": 2
}
